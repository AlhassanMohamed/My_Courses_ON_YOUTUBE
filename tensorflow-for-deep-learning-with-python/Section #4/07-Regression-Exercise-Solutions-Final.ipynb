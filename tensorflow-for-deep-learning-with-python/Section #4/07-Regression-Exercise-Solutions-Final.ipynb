{
 "cells": [
  {
   "cell_type": "markdown",
   "metadata": {},
   "source": [
    "# Regression Exercise - Solutions\n",
    "\n",
    "California Housing Data\n",
    "\n",
    "This data set contains information about all the block groups in California from the 1990 Census. In this sample a block group on average includes 1425.5 individuals living in a geographically compact area. \n",
    "\n",
    "The task is to aproximate the median house value of each block from the values of the rest of the variables. \n",
    "\n",
    " It has been obtained from the LIACC repository. The original page where the data set can be found is: http://www.liaad.up.pt/~ltorgo/Regression/DataSets.html.\n",
    " "
   ]
  },
  {
   "cell_type": "markdown",
   "metadata": {},
   "source": [
    "The Features:\n",
    " \n",
    "* housingMedianAge: continuous. \n",
    "* totalRooms: continuous. \n",
    "* totalBedrooms: continuous. \n",
    "* population: continuous. \n",
    "* households: continuous. \n",
    "* medianIncome: continuous. \n",
    "* medianHouseValue: continuous. "
   ]
  },
  {
   "cell_type": "markdown",
   "metadata": {},
   "source": [
    "## The Data"
   ]
  },
  {
   "cell_type": "markdown",
   "metadata": {},
   "source": [
    "** Import the cal_housing.csv file with pandas. Separate it into a training (70%) and testing set(30%).**"
   ]
  },
  {
   "cell_type": "code",
   "execution_count": 2,
   "metadata": {},
   "outputs": [],
   "source": [
    "import pandas as pd"
   ]
  },
  {
   "cell_type": "code",
   "execution_count": 3,
   "metadata": {},
   "outputs": [],
   "source": [
    "housing = pd.read_csv('cal_housing_clean.csv')"
   ]
  },
  {
   "cell_type": "code",
   "execution_count": 4,
   "metadata": {},
   "outputs": [
    {
     "data": {
      "text/html": [
       "<div>\n",
       "<style scoped>\n",
       "    .dataframe tbody tr th:only-of-type {\n",
       "        vertical-align: middle;\n",
       "    }\n",
       "\n",
       "    .dataframe tbody tr th {\n",
       "        vertical-align: top;\n",
       "    }\n",
       "\n",
       "    .dataframe thead th {\n",
       "        text-align: right;\n",
       "    }\n",
       "</style>\n",
       "<table border=\"1\" class=\"dataframe\">\n",
       "  <thead>\n",
       "    <tr style=\"text-align: right;\">\n",
       "      <th></th>\n",
       "      <th>housingMedianAge</th>\n",
       "      <th>totalRooms</th>\n",
       "      <th>totalBedrooms</th>\n",
       "      <th>population</th>\n",
       "      <th>households</th>\n",
       "      <th>medianIncome</th>\n",
       "      <th>medianHouseValue</th>\n",
       "    </tr>\n",
       "  </thead>\n",
       "  <tbody>\n",
       "    <tr>\n",
       "      <th>0</th>\n",
       "      <td>41.0</td>\n",
       "      <td>880.0</td>\n",
       "      <td>129.0</td>\n",
       "      <td>322.0</td>\n",
       "      <td>126.0</td>\n",
       "      <td>8.3252</td>\n",
       "      <td>452600.0</td>\n",
       "    </tr>\n",
       "    <tr>\n",
       "      <th>1</th>\n",
       "      <td>21.0</td>\n",
       "      <td>7099.0</td>\n",
       "      <td>1106.0</td>\n",
       "      <td>2401.0</td>\n",
       "      <td>1138.0</td>\n",
       "      <td>8.3014</td>\n",
       "      <td>358500.0</td>\n",
       "    </tr>\n",
       "    <tr>\n",
       "      <th>2</th>\n",
       "      <td>52.0</td>\n",
       "      <td>1467.0</td>\n",
       "      <td>190.0</td>\n",
       "      <td>496.0</td>\n",
       "      <td>177.0</td>\n",
       "      <td>7.2574</td>\n",
       "      <td>352100.0</td>\n",
       "    </tr>\n",
       "    <tr>\n",
       "      <th>3</th>\n",
       "      <td>52.0</td>\n",
       "      <td>1274.0</td>\n",
       "      <td>235.0</td>\n",
       "      <td>558.0</td>\n",
       "      <td>219.0</td>\n",
       "      <td>5.6431</td>\n",
       "      <td>341300.0</td>\n",
       "    </tr>\n",
       "    <tr>\n",
       "      <th>4</th>\n",
       "      <td>52.0</td>\n",
       "      <td>1627.0</td>\n",
       "      <td>280.0</td>\n",
       "      <td>565.0</td>\n",
       "      <td>259.0</td>\n",
       "      <td>3.8462</td>\n",
       "      <td>342200.0</td>\n",
       "    </tr>\n",
       "  </tbody>\n",
       "</table>\n",
       "</div>"
      ],
      "text/plain": [
       "   housingMedianAge  totalRooms  totalBedrooms  population  households  \\\n",
       "0              41.0       880.0          129.0       322.0       126.0   \n",
       "1              21.0      7099.0         1106.0      2401.0      1138.0   \n",
       "2              52.0      1467.0          190.0       496.0       177.0   \n",
       "3              52.0      1274.0          235.0       558.0       219.0   \n",
       "4              52.0      1627.0          280.0       565.0       259.0   \n",
       "\n",
       "   medianIncome  medianHouseValue  \n",
       "0        8.3252          452600.0  \n",
       "1        8.3014          358500.0  \n",
       "2        7.2574          352100.0  \n",
       "3        5.6431          341300.0  \n",
       "4        3.8462          342200.0  "
      ]
     },
     "execution_count": 4,
     "metadata": {},
     "output_type": "execute_result"
    }
   ],
   "source": [
    "housing.head()"
   ]
  },
  {
   "cell_type": "code",
   "execution_count": 6,
   "metadata": {},
   "outputs": [
    {
     "data": {
      "text/html": [
       "<div>\n",
       "<style scoped>\n",
       "    .dataframe tbody tr th:only-of-type {\n",
       "        vertical-align: middle;\n",
       "    }\n",
       "\n",
       "    .dataframe tbody tr th {\n",
       "        vertical-align: top;\n",
       "    }\n",
       "\n",
       "    .dataframe thead th {\n",
       "        text-align: right;\n",
       "    }\n",
       "</style>\n",
       "<table border=\"1\" class=\"dataframe\">\n",
       "  <thead>\n",
       "    <tr style=\"text-align: right;\">\n",
       "      <th></th>\n",
       "      <th>count</th>\n",
       "      <th>mean</th>\n",
       "      <th>std</th>\n",
       "      <th>min</th>\n",
       "      <th>25%</th>\n",
       "      <th>50%</th>\n",
       "      <th>75%</th>\n",
       "      <th>max</th>\n",
       "    </tr>\n",
       "  </thead>\n",
       "  <tbody>\n",
       "    <tr>\n",
       "      <th>housingMedianAge</th>\n",
       "      <td>20640.0</td>\n",
       "      <td>28.639486</td>\n",
       "      <td>12.585558</td>\n",
       "      <td>1.0000</td>\n",
       "      <td>18.0000</td>\n",
       "      <td>29.0000</td>\n",
       "      <td>37.00000</td>\n",
       "      <td>52.0000</td>\n",
       "    </tr>\n",
       "    <tr>\n",
       "      <th>totalRooms</th>\n",
       "      <td>20640.0</td>\n",
       "      <td>2635.763081</td>\n",
       "      <td>2181.615252</td>\n",
       "      <td>2.0000</td>\n",
       "      <td>1447.7500</td>\n",
       "      <td>2127.0000</td>\n",
       "      <td>3148.00000</td>\n",
       "      <td>39320.0000</td>\n",
       "    </tr>\n",
       "    <tr>\n",
       "      <th>totalBedrooms</th>\n",
       "      <td>20640.0</td>\n",
       "      <td>537.898014</td>\n",
       "      <td>421.247906</td>\n",
       "      <td>1.0000</td>\n",
       "      <td>295.0000</td>\n",
       "      <td>435.0000</td>\n",
       "      <td>647.00000</td>\n",
       "      <td>6445.0000</td>\n",
       "    </tr>\n",
       "    <tr>\n",
       "      <th>population</th>\n",
       "      <td>20640.0</td>\n",
       "      <td>1425.476744</td>\n",
       "      <td>1132.462122</td>\n",
       "      <td>3.0000</td>\n",
       "      <td>787.0000</td>\n",
       "      <td>1166.0000</td>\n",
       "      <td>1725.00000</td>\n",
       "      <td>35682.0000</td>\n",
       "    </tr>\n",
       "    <tr>\n",
       "      <th>households</th>\n",
       "      <td>20640.0</td>\n",
       "      <td>499.539680</td>\n",
       "      <td>382.329753</td>\n",
       "      <td>1.0000</td>\n",
       "      <td>280.0000</td>\n",
       "      <td>409.0000</td>\n",
       "      <td>605.00000</td>\n",
       "      <td>6082.0000</td>\n",
       "    </tr>\n",
       "    <tr>\n",
       "      <th>medianIncome</th>\n",
       "      <td>20640.0</td>\n",
       "      <td>3.870671</td>\n",
       "      <td>1.899822</td>\n",
       "      <td>0.4999</td>\n",
       "      <td>2.5634</td>\n",
       "      <td>3.5348</td>\n",
       "      <td>4.74325</td>\n",
       "      <td>15.0001</td>\n",
       "    </tr>\n",
       "    <tr>\n",
       "      <th>medianHouseValue</th>\n",
       "      <td>20640.0</td>\n",
       "      <td>206855.816909</td>\n",
       "      <td>115395.615874</td>\n",
       "      <td>14999.0000</td>\n",
       "      <td>119600.0000</td>\n",
       "      <td>179700.0000</td>\n",
       "      <td>264725.00000</td>\n",
       "      <td>500001.0000</td>\n",
       "    </tr>\n",
       "  </tbody>\n",
       "</table>\n",
       "</div>"
      ],
      "text/plain": [
       "                    count           mean            std         min  \\\n",
       "housingMedianAge  20640.0      28.639486      12.585558      1.0000   \n",
       "totalRooms        20640.0    2635.763081    2181.615252      2.0000   \n",
       "totalBedrooms     20640.0     537.898014     421.247906      1.0000   \n",
       "population        20640.0    1425.476744    1132.462122      3.0000   \n",
       "households        20640.0     499.539680     382.329753      1.0000   \n",
       "medianIncome      20640.0       3.870671       1.899822      0.4999   \n",
       "medianHouseValue  20640.0  206855.816909  115395.615874  14999.0000   \n",
       "\n",
       "                          25%          50%           75%          max  \n",
       "housingMedianAge      18.0000      29.0000      37.00000      52.0000  \n",
       "totalRooms          1447.7500    2127.0000    3148.00000   39320.0000  \n",
       "totalBedrooms        295.0000     435.0000     647.00000    6445.0000  \n",
       "population           787.0000    1166.0000    1725.00000   35682.0000  \n",
       "households           280.0000     409.0000     605.00000    6082.0000  \n",
       "medianIncome           2.5634       3.5348       4.74325      15.0001  \n",
       "medianHouseValue  119600.0000  179700.0000  264725.00000  500001.0000  "
      ]
     },
     "execution_count": 6,
     "metadata": {},
     "output_type": "execute_result"
    }
   ],
   "source": [
    "housing.describe().transpose()"
   ]
  },
  {
   "cell_type": "code",
   "execution_count": 5,
   "metadata": {
    "scrolled": true
   },
   "outputs": [],
   "source": [
    "x_data = housing.drop(['medianHouseValue'],axis=1)"
   ]
  },
  {
   "cell_type": "code",
   "execution_count": 6,
   "metadata": {
    "collapsed": true
   },
   "outputs": [],
   "source": [
    "y_val = housing['medianHouseValue']"
   ]
  },
  {
   "cell_type": "code",
   "execution_count": 7,
   "metadata": {
    "collapsed": true
   },
   "outputs": [],
   "source": [
    "from sklearn.model_selection import train_test_split"
   ]
  },
  {
   "cell_type": "code",
   "execution_count": 8,
   "metadata": {},
   "outputs": [],
   "source": [
    "X_train, X_test, y_train, y_test = train_test_split(x_data,y_val,test_size=0.3,random_state=101)"
   ]
  },
  {
   "cell_type": "markdown",
   "metadata": {},
   "source": [
    "### Scale the Feature Data\n",
    "\n",
    "** Use sklearn preprocessing to create a MinMaxScaler for the feature data. Fit this scaler only to the training data. Then use it to transform X_test and X_train. Then use the scaled X_test and X_train along with pd.Dataframe to re-create two dataframes of scaled data.**"
   ]
  },
  {
   "cell_type": "code",
   "execution_count": 9,
   "metadata": {
    "collapsed": true
   },
   "outputs": [],
   "source": [
    "from sklearn.preprocessing import MinMaxScaler"
   ]
  },
  {
   "cell_type": "code",
   "execution_count": 10,
   "metadata": {
    "collapsed": true
   },
   "outputs": [],
   "source": [
    "scaler = MinMaxScaler()"
   ]
  },
  {
   "cell_type": "code",
   "execution_count": 11,
   "metadata": {},
   "outputs": [
    {
     "data": {
      "text/plain": [
       "MinMaxScaler(copy=True, feature_range=(0, 1))"
      ]
     },
     "execution_count": 11,
     "metadata": {},
     "output_type": "execute_result"
    }
   ],
   "source": [
    "scaler.fit(X_train)"
   ]
  },
  {
   "cell_type": "code",
   "execution_count": 12,
   "metadata": {},
   "outputs": [],
   "source": [
    "X_train = pd.DataFrame(data=scaler.transform(X_train),columns = X_train.columns,index=X_train.index)"
   ]
  },
  {
   "cell_type": "code",
   "execution_count": 13,
   "metadata": {
    "collapsed": true
   },
   "outputs": [],
   "source": [
    "X_test = pd.DataFrame(data=scaler.transform(X_test),columns = X_test.columns,index=X_test.index)"
   ]
  },
  {
   "cell_type": "markdown",
   "metadata": {},
   "source": [
    "### Create Feature Columns\n",
    "\n",
    "** Create the necessary tf.feature_column objects for the estimator. They should all be trated as continuous numeric_columns. **"
   ]
  },
  {
   "cell_type": "code",
   "execution_count": 14,
   "metadata": {},
   "outputs": [
    {
     "data": {
      "text/plain": [
       "Index(['housingMedianAge', 'totalRooms', 'totalBedrooms', 'population',\n",
       "       'households', 'medianIncome', 'medianHouseValue'],\n",
       "      dtype='object')"
      ]
     },
     "execution_count": 14,
     "metadata": {},
     "output_type": "execute_result"
    }
   ],
   "source": [
    "housing.columns"
   ]
  },
  {
   "cell_type": "code",
   "execution_count": 15,
   "metadata": {
    "collapsed": true
   },
   "outputs": [],
   "source": [
    "import tensorflow as tf"
   ]
  },
  {
   "cell_type": "code",
   "execution_count": 16,
   "metadata": {
    "collapsed": true
   },
   "outputs": [],
   "source": [
    "age = tf.feature_column.numeric_column('housingMedianAge')\n",
    "rooms = tf.feature_column.numeric_column('totalRooms')\n",
    "bedrooms = tf.feature_column.numeric_column('totalBedrooms')\n",
    "pop = tf.feature_column.numeric_column('population')\n",
    "households = tf.feature_column.numeric_column('households')\n",
    "income = tf.feature_column.numeric_column('medianIncome')"
   ]
  },
  {
   "cell_type": "code",
   "execution_count": 17,
   "metadata": {
    "collapsed": true
   },
   "outputs": [],
   "source": [
    "feat_cols = [ age,rooms,bedrooms,pop,households,income]"
   ]
  },
  {
   "cell_type": "markdown",
   "metadata": {},
   "source": [
    "** Create the input function for the estimator object. (play around with batch_size and num_epochs)**"
   ]
  },
  {
   "cell_type": "code",
   "execution_count": 18,
   "metadata": {},
   "outputs": [],
   "source": [
    "input_func = tf.estimator.inputs.pandas_input_fn(x=X_train,y=y_train ,batch_size=10,num_epochs=1000,\n",
    "                                            shuffle=True)"
   ]
  },
  {
   "cell_type": "markdown",
   "metadata": {},
   "source": [
    "** Create the estimator model. Use a DNNRegressor. Play around with the hidden units! **"
   ]
  },
  {
   "cell_type": "code",
   "execution_count": 19,
   "metadata": {},
   "outputs": [
    {
     "name": "stdout",
     "output_type": "stream",
     "text": [
      "INFO:tensorflow:Using default config.\n",
      "WARNING:tensorflow:Using temporary folder as model directory: C:\\Users\\hassan\\AppData\\Local\\Temp\\tmp2mnpc8_q\n",
      "INFO:tensorflow:Using config: {'_model_dir': 'C:\\\\Users\\\\hassan\\\\AppData\\\\Local\\\\Temp\\\\tmp2mnpc8_q', '_tf_random_seed': None, '_save_summary_steps': 100, '_save_checkpoints_steps': None, '_save_checkpoints_secs': 600, '_session_config': allow_soft_placement: true\n",
      "graph_options {\n",
      "  rewrite_options {\n",
      "    meta_optimizer_iterations: ONE\n",
      "  }\n",
      "}\n",
      ", '_keep_checkpoint_max': 5, '_keep_checkpoint_every_n_hours': 10000, '_log_step_count_steps': 100, '_train_distribute': None, '_device_fn': None, '_protocol': None, '_eval_distribute': None, '_experimental_distribute': None, '_service': None, '_cluster_spec': <tensorflow.python.training.server_lib.ClusterSpec object at 0x000000474CE1D748>, '_task_type': 'worker', '_task_id': 0, '_global_id_in_cluster': 0, '_master': '', '_evaluation_master': '', '_is_chief': True, '_num_ps_replicas': 0, '_num_worker_replicas': 1}\n"
     ]
    }
   ],
   "source": [
    "model = tf.estimator.DNNRegressor(hidden_units=[6,6,6],feature_columns=feat_cols)"
   ]
  },
  {
   "cell_type": "markdown",
   "metadata": {},
   "source": [
    "##### ** Train the model for ~1,000 steps. (Later come back to this and train it for more and check for improvement) **"
   ]
  },
  {
   "cell_type": "code",
   "execution_count": 20,
   "metadata": {},
   "outputs": [
    {
     "name": "stdout",
     "output_type": "stream",
     "text": [
      "WARNING:tensorflow:From C:\\Users\\hassan\\AppData\\Local\\Continuum\\anaconda3\\envs\\deeplearning\\lib\\site-packages\\tensorflow\\python\\estimator\\inputs\\queues\\feeding_queue_runner.py:62: QueueRunner.__init__ (from tensorflow.python.training.queue_runner_impl) is deprecated and will be removed in a future version.\n",
      "Instructions for updating:\n",
      "To construct input pipelines, use the `tf.data` module.\n",
      "WARNING:tensorflow:From C:\\Users\\hassan\\AppData\\Local\\Continuum\\anaconda3\\envs\\deeplearning\\lib\\site-packages\\tensorflow\\python\\estimator\\inputs\\queues\\feeding_functions.py:500: add_queue_runner (from tensorflow.python.training.queue_runner_impl) is deprecated and will be removed in a future version.\n",
      "Instructions for updating:\n",
      "To construct input pipelines, use the `tf.data` module.\n",
      "INFO:tensorflow:Calling model_fn.\n",
      "INFO:tensorflow:Done calling model_fn.\n",
      "INFO:tensorflow:Create CheckpointSaverHook.\n",
      "INFO:tensorflow:Graph was finalized.\n",
      "INFO:tensorflow:Running local_init_op.\n",
      "INFO:tensorflow:Done running local_init_op.\n",
      "WARNING:tensorflow:From C:\\Users\\hassan\\AppData\\Local\\Continuum\\anaconda3\\envs\\deeplearning\\lib\\site-packages\\tensorflow\\python\\training\\monitored_session.py:804: start_queue_runners (from tensorflow.python.training.queue_runner_impl) is deprecated and will be removed in a future version.\n",
      "Instructions for updating:\n",
      "To construct input pipelines, use the `tf.data` module.\n",
      "INFO:tensorflow:Saving checkpoints for 0 into C:\\Users\\hassan\\AppData\\Local\\Temp\\tmp2mnpc8_q\\model.ckpt.\n",
      "INFO:tensorflow:loss = 838579900000.0, step = 1\n",
      "INFO:tensorflow:global_step/sec: 423.368\n",
      "INFO:tensorflow:loss = 377100730000.0, step = 101 (0.240 sec)\n",
      "INFO:tensorflow:global_step/sec: 564.676\n",
      "INFO:tensorflow:loss = 841168450000.0, step = 201 (0.176 sec)\n",
      "INFO:tensorflow:global_step/sec: 555.159\n",
      "INFO:tensorflow:loss = 715713000000.0, step = 301 (0.182 sec)\n",
      "INFO:tensorflow:global_step/sec: 601.981\n",
      "INFO:tensorflow:loss = 316181250000.0, step = 401 (0.161 sec)\n",
      "INFO:tensorflow:global_step/sec: 584.38\n",
      "INFO:tensorflow:loss = 463763930000.0, step = 501 (0.173 sec)\n",
      "INFO:tensorflow:global_step/sec: 549.061\n",
      "INFO:tensorflow:loss = 384959050000.0, step = 601 (0.183 sec)\n",
      "INFO:tensorflow:global_step/sec: 537.253\n",
      "INFO:tensorflow:loss = 580536500000.0, step = 701 (0.184 sec)\n",
      "INFO:tensorflow:global_step/sec: 543.088\n",
      "INFO:tensorflow:loss = 198303420000.0, step = 801 (0.186 sec)\n",
      "INFO:tensorflow:global_step/sec: 537.251\n",
      "INFO:tensorflow:loss = 371481840000.0, step = 901 (0.187 sec)\n",
      "INFO:tensorflow:global_step/sec: 574.309\n",
      "INFO:tensorflow:loss = 239034560000.0, step = 1001 (0.171 sec)\n",
      "INFO:tensorflow:global_step/sec: 561.394\n",
      "INFO:tensorflow:loss = 70809920000.0, step = 1101 (0.179 sec)\n",
      "INFO:tensorflow:global_step/sec: 587.82\n",
      "INFO:tensorflow:loss = 176184660000.0, step = 1201 (0.169 sec)\n",
      "INFO:tensorflow:global_step/sec: 567.78\n",
      "INFO:tensorflow:loss = 450357170000.0, step = 1301 (0.177 sec)\n",
      "INFO:tensorflow:global_step/sec: 580.982\n",
      "INFO:tensorflow:loss = 140532780000.0, step = 1401 (0.173 sec)\n",
      "INFO:tensorflow:global_step/sec: 571.019\n",
      "INFO:tensorflow:loss = 211331990000.0, step = 1501 (0.173 sec)\n",
      "INFO:tensorflow:global_step/sec: 528.726\n",
      "INFO:tensorflow:loss = 45030460000.0, step = 1601 (0.190 sec)\n",
      "INFO:tensorflow:global_step/sec: 546.06\n",
      "INFO:tensorflow:loss = 53310104000.0, step = 1701 (0.182 sec)\n",
      "INFO:tensorflow:global_step/sec: 543.053\n",
      "INFO:tensorflow:loss = 99028860000.0, step = 1801 (0.189 sec)\n",
      "INFO:tensorflow:global_step/sec: 549.1\n",
      "INFO:tensorflow:loss = 32679905000.0, step = 1901 (0.179 sec)\n",
      "INFO:tensorflow:global_step/sec: 549.058\n",
      "INFO:tensorflow:loss = 129214644000.0, step = 2001 (0.181 sec)\n",
      "INFO:tensorflow:global_step/sec: 558.262\n",
      "INFO:tensorflow:loss = 213731930000.0, step = 2101 (0.179 sec)\n",
      "INFO:tensorflow:global_step/sec: 502.157\n",
      "INFO:tensorflow:loss = 86055160000.0, step = 2201 (0.200 sec)\n",
      "INFO:tensorflow:global_step/sec: 555.159\n",
      "INFO:tensorflow:loss = 27757394000.0, step = 2301 (0.178 sec)\n",
      "INFO:tensorflow:global_step/sec: 549.059\n",
      "INFO:tensorflow:loss = 222469550000.0, step = 2401 (0.185 sec)\n",
      "INFO:tensorflow:global_step/sec: 444.129\n",
      "INFO:tensorflow:loss = 171421370000.0, step = 2501 (0.222 sec)\n",
      "INFO:tensorflow:global_step/sec: 440.214\n",
      "INFO:tensorflow:loss = 127631280000.0, step = 2601 (0.229 sec)\n",
      "INFO:tensorflow:global_step/sec: 509.843\n",
      "INFO:tensorflow:loss = 136887345000.0, step = 2701 (0.196 sec)\n",
      "INFO:tensorflow:global_step/sec: 558.259\n",
      "INFO:tensorflow:loss = 169815920000.0, step = 2801 (0.180 sec)\n",
      "INFO:tensorflow:global_step/sec: 552.092\n",
      "INFO:tensorflow:loss = 64880720000.0, step = 2901 (0.178 sec)\n",
      "INFO:tensorflow:global_step/sec: 552.096\n",
      "INFO:tensorflow:loss = 47110414000.0, step = 3001 (0.186 sec)\n",
      "INFO:tensorflow:global_step/sec: 489.849\n",
      "INFO:tensorflow:loss = 125901816000.0, step = 3101 (0.200 sec)\n",
      "INFO:tensorflow:global_step/sec: 567.778\n",
      "INFO:tensorflow:loss = 86201940000.0, step = 3201 (0.177 sec)\n",
      "INFO:tensorflow:global_step/sec: 520.462\n",
      "INFO:tensorflow:loss = 173925530000.0, step = 3301 (0.190 sec)\n",
      "INFO:tensorflow:global_step/sec: 561.399\n",
      "INFO:tensorflow:loss = 79453850000.0, step = 3401 (0.182 sec)\n",
      "INFO:tensorflow:global_step/sec: 512.455\n",
      "INFO:tensorflow:loss = 123660010000.0, step = 3501 (0.196 sec)\n",
      "INFO:tensorflow:global_step/sec: 517.768\n",
      "INFO:tensorflow:loss = 97391804000.0, step = 3601 (0.189 sec)\n",
      "INFO:tensorflow:global_step/sec: 567.776\n",
      "INFO:tensorflow:loss = 154447560000.0, step = 3701 (0.175 sec)\n",
      "INFO:tensorflow:global_step/sec: 540.154\n",
      "INFO:tensorflow:loss = 59229340000.0, step = 3801 (0.188 sec)\n",
      "INFO:tensorflow:global_step/sec: 540.16\n",
      "INFO:tensorflow:loss = 80108780000.0, step = 3901 (0.184 sec)\n",
      "INFO:tensorflow:global_step/sec: 567.776\n",
      "INFO:tensorflow:loss = 104061895000.0, step = 4001 (0.175 sec)\n",
      "INFO:tensorflow:global_step/sec: 561.399\n",
      "INFO:tensorflow:loss = 149553990000.0, step = 4101 (0.178 sec)\n",
      "INFO:tensorflow:global_step/sec: 567.776\n",
      "INFO:tensorflow:loss = 67174515000.0, step = 4201 (0.177 sec)\n",
      "INFO:tensorflow:global_step/sec: 531.537\n",
      "INFO:tensorflow:loss = 117272850000.0, step = 4301 (0.187 sec)\n",
      "INFO:tensorflow:global_step/sec: 549.062\n",
      "INFO:tensorflow:loss = 76893490000.0, step = 4401 (0.182 sec)\n",
      "INFO:tensorflow:global_step/sec: 564.569\n",
      "INFO:tensorflow:loss = 187000060000.0, step = 4501 (0.178 sec)\n",
      "INFO:tensorflow:global_step/sec: 534.379\n",
      "INFO:tensorflow:loss = 46181384000.0, step = 4601 (0.188 sec)\n",
      "INFO:tensorflow:global_step/sec: 525.943\n",
      "INFO:tensorflow:loss = 100152200000.0, step = 4701 (0.190 sec)\n",
      "INFO:tensorflow:global_step/sec: 543.09\n",
      "INFO:tensorflow:loss = 66118330000.0, step = 4801 (0.185 sec)\n",
      "INFO:tensorflow:global_step/sec: 546.059\n",
      "INFO:tensorflow:loss = 78142005000.0, step = 4901 (0.180 sec)\n",
      "INFO:tensorflow:global_step/sec: 549.059\n",
      "INFO:tensorflow:loss = 126955390000.0, step = 5001 (0.185 sec)\n",
      "INFO:tensorflow:global_step/sec: 543.093\n",
      "INFO:tensorflow:loss = 85087820000.0, step = 5101 (0.181 sec)\n",
      "INFO:tensorflow:global_step/sec: 549.059\n",
      "INFO:tensorflow:loss = 72542950000.0, step = 5201 (0.181 sec)\n",
      "INFO:tensorflow:global_step/sec: 549.06\n",
      "INFO:tensorflow:loss = 155158840000.0, step = 5301 (0.182 sec)\n",
      "INFO:tensorflow:global_step/sec: 561.399\n",
      "INFO:tensorflow:loss = 50993310000.0, step = 5401 (0.178 sec)\n",
      "INFO:tensorflow:global_step/sec: 515.095\n",
      "INFO:tensorflow:loss = 190999310000.0, step = 5501 (0.198 sec)\n",
      "INFO:tensorflow:global_step/sec: 520.466\n",
      "INFO:tensorflow:loss = 131305390000.0, step = 5601 (0.188 sec)\n",
      "INFO:tensorflow:global_step/sec: 567.778\n",
      "INFO:tensorflow:loss = 34438160000.0, step = 5701 (0.176 sec)\n",
      "INFO:tensorflow:global_step/sec: 537.251\n",
      "INFO:tensorflow:loss = 70729060000.0, step = 5801 (0.186 sec)\n",
      "INFO:tensorflow:global_step/sec: 540.156\n",
      "INFO:tensorflow:loss = 136551270000.0, step = 5901 (0.186 sec)\n",
      "INFO:tensorflow:global_step/sec: 564.571\n",
      "INFO:tensorflow:loss = 217707700000.0, step = 6001 (0.178 sec)\n",
      "INFO:tensorflow:global_step/sec: 546.06\n",
      "INFO:tensorflow:loss = 63717126000.0, step = 6101 (0.181 sec)\n",
      "INFO:tensorflow:global_step/sec: 567.772\n",
      "INFO:tensorflow:loss = 83610020000.0, step = 6201 (0.178 sec)\n",
      "INFO:tensorflow:global_step/sec: 567.781\n",
      "INFO:tensorflow:loss = 251103460000.0, step = 6301 (0.174 sec)\n",
      "INFO:tensorflow:global_step/sec: 577.625\n",
      "INFO:tensorflow:loss = 66419020000.0, step = 6401 (0.173 sec)\n",
      "INFO:tensorflow:global_step/sec: 564.57\n",
      "INFO:tensorflow:loss = 43633172000.0, step = 6501 (0.178 sec)\n",
      "INFO:tensorflow:global_step/sec: 543.092\n",
      "INFO:tensorflow:loss = 72996320000.0, step = 6601 (0.184 sec)\n",
      "INFO:tensorflow:global_step/sec: 534.377\n",
      "INFO:tensorflow:loss = 71912870000.0, step = 6701 (0.188 sec)\n",
      "INFO:tensorflow:global_step/sec: 540.155\n",
      "INFO:tensorflow:loss = 81599020000.0, step = 6801 (0.185 sec)\n",
      "INFO:tensorflow:global_step/sec: 558.263\n",
      "INFO:tensorflow:loss = 88765860000.0, step = 6901 (0.177 sec)\n",
      "INFO:tensorflow:global_step/sec: 534.376\n",
      "INFO:tensorflow:loss = 130502340000.0, step = 7001 (0.189 sec)\n",
      "INFO:tensorflow:global_step/sec: 564.541\n",
      "INFO:tensorflow:loss = 118033060000.0, step = 7101 (0.178 sec)\n",
      "INFO:tensorflow:global_step/sec: 515.125\n",
      "INFO:tensorflow:loss = 27210207000.0, step = 7201 (0.193 sec)\n",
      "INFO:tensorflow:global_step/sec: 574.3\n",
      "INFO:tensorflow:loss = 102801260000.0, step = 7301 (0.174 sec)\n",
      "INFO:tensorflow:global_step/sec: 567.781\n",
      "INFO:tensorflow:loss = 99138470000.0, step = 7401 (0.178 sec)\n",
      "INFO:tensorflow:global_step/sec: 577.624\n",
      "INFO:tensorflow:loss = 45225150000.0, step = 7501 (0.169 sec)\n",
      "INFO:tensorflow:global_step/sec: 531.535\n",
      "INFO:tensorflow:loss = 79301590000.0, step = 7601 (0.192 sec)\n",
      "INFO:tensorflow:global_step/sec: 549.061\n",
      "INFO:tensorflow:loss = 31619285000.0, step = 7701 (0.179 sec)\n",
      "INFO:tensorflow:global_step/sec: 564.572\n",
      "INFO:tensorflow:loss = 41423634000.0, step = 7801 (0.179 sec)\n",
      "INFO:tensorflow:global_step/sec: 523.187\n",
      "INFO:tensorflow:loss = 96937480000.0, step = 7901 (0.193 sec)\n",
      "INFO:tensorflow:global_step/sec: 574.303\n",
      "INFO:tensorflow:loss = 70462680000.0, step = 8001 (0.170 sec)\n",
      "INFO:tensorflow:global_step/sec: 577.625\n",
      "INFO:tensorflow:loss = 107325160000.0, step = 8101 (0.173 sec)\n",
      "INFO:tensorflow:global_step/sec: 574.303\n",
      "INFO:tensorflow:loss = 37016764000.0, step = 8201 (0.174 sec)\n",
      "INFO:tensorflow:global_step/sec: 577.624\n",
      "INFO:tensorflow:loss = 68615254000.0, step = 8301 (0.173 sec)\n",
      "INFO:tensorflow:global_step/sec: 537.253\n",
      "INFO:tensorflow:loss = 51140050000.0, step = 8401 (0.185 sec)\n",
      "INFO:tensorflow:global_step/sec: 534.377\n",
      "INFO:tensorflow:loss = 152504190000.0, step = 8501 (0.189 sec)\n",
      "INFO:tensorflow:global_step/sec: 580.982\n",
      "INFO:tensorflow:loss = 59964230000.0, step = 8601 (0.170 sec)\n",
      "INFO:tensorflow:global_step/sec: 574.304\n",
      "INFO:tensorflow:loss = 170734140000.0, step = 8701 (0.174 sec)\n",
      "INFO:tensorflow:global_step/sec: 534.381\n",
      "INFO:tensorflow:loss = 99920140000.0, step = 8801 (0.192 sec)\n",
      "INFO:tensorflow:global_step/sec: 531.535\n",
      "INFO:tensorflow:loss = 98952460000.0, step = 8901 (0.184 sec)\n",
      "INFO:tensorflow:global_step/sec: 558.263\n",
      "INFO:tensorflow:loss = 68915620000.0, step = 9001 (0.181 sec)\n",
      "INFO:tensorflow:global_step/sec: 577.623\n",
      "INFO:tensorflow:loss = 136796130000.0, step = 9101 (0.171 sec)\n",
      "INFO:tensorflow:global_step/sec: 571.023\n",
      "INFO:tensorflow:loss = 53212754000.0, step = 9201 (0.174 sec)\n",
      "INFO:tensorflow:global_step/sec: 564.569\n",
      "INFO:tensorflow:loss = 128710460000.0, step = 9301 (0.178 sec)\n",
      "INFO:tensorflow:global_step/sec: 540.156\n",
      "INFO:tensorflow:loss = 129061134000.0, step = 9401 (0.185 sec)\n",
      "INFO:tensorflow:global_step/sec: 567.778\n",
      "INFO:tensorflow:loss = 157843000000.0, step = 9501 (0.179 sec)\n",
      "INFO:tensorflow:global_step/sec: 567.777\n",
      "INFO:tensorflow:loss = 64998945000.0, step = 9601 (0.173 sec)\n",
      "INFO:tensorflow:global_step/sec: 584.377\n",
      "INFO:tensorflow:loss = 59661074000.0, step = 9701 (0.170 sec)\n",
      "INFO:tensorflow:global_step/sec: 567.781\n",
      "INFO:tensorflow:loss = 141951680000.0, step = 9801 (0.176 sec)\n",
      "INFO:tensorflow:global_step/sec: 509.842\n",
      "INFO:tensorflow:loss = 84909380000.0, step = 9901 (0.197 sec)\n",
      "INFO:tensorflow:global_step/sec: 564.569\n",
      "INFO:tensorflow:loss = 125974000000.0, step = 10001 (0.178 sec)\n",
      "INFO:tensorflow:global_step/sec: 577.624\n",
      "INFO:tensorflow:loss = 45371730000.0, step = 10101 (0.172 sec)\n",
      "INFO:tensorflow:global_step/sec: 567.775\n",
      "INFO:tensorflow:loss = 56618287000.0, step = 10201 (0.177 sec)\n",
      "INFO:tensorflow:global_step/sec: 574.307\n",
      "INFO:tensorflow:loss = 105284250000.0, step = 10301 (0.172 sec)\n",
      "INFO:tensorflow:global_step/sec: 577.621\n",
      "INFO:tensorflow:loss = 169723800000.0, step = 10401 (0.175 sec)\n",
      "INFO:tensorflow:global_step/sec: 525.944\n",
      "INFO:tensorflow:loss = 102467180000.0, step = 10501 (0.191 sec)\n",
      "INFO:tensorflow:global_step/sec: 571.021\n",
      "INFO:tensorflow:loss = 118118220000.0, step = 10601 (0.172 sec)\n",
      "INFO:tensorflow:global_step/sec: 574.303\n",
      "INFO:tensorflow:loss = 87182295000.0, step = 10701 (0.174 sec)\n",
      "INFO:tensorflow:global_step/sec: 577.627\n",
      "INFO:tensorflow:loss = 55384367000.0, step = 10801 (0.173 sec)\n",
      "INFO:tensorflow:global_step/sec: 540.156\n",
      "INFO:tensorflow:loss = 93975050000.0, step = 10901 (0.189 sec)\n",
      "INFO:tensorflow:global_step/sec: 520.463\n",
      "INFO:tensorflow:loss = 160066220000.0, step = 11001 (0.192 sec)\n",
      "INFO:tensorflow:global_step/sec: 580.979\n",
      "INFO:tensorflow:loss = 148683420000.0, step = 11101 (0.170 sec)\n",
      "INFO:tensorflow:global_step/sec: 525.942\n",
      "INFO:tensorflow:loss = 71554100000.0, step = 11201 (0.189 sec)\n",
      "INFO:tensorflow:global_step/sec: 574.304\n",
      "INFO:tensorflow:loss = 100370104000.0, step = 11301 (0.174 sec)\n",
      "INFO:tensorflow:global_step/sec: 567.778\n",
      "INFO:tensorflow:loss = 41497678000.0, step = 11401 (0.176 sec)\n",
      "INFO:tensorflow:global_step/sec: 580.982\n",
      "INFO:tensorflow:loss = 81407210000.0, step = 11501 (0.171 sec)\n",
      "INFO:tensorflow:global_step/sec: 564.566\n",
      "INFO:tensorflow:loss = 41394045000.0, step = 11601 (0.177 sec)\n",
      "INFO:tensorflow:global_step/sec: 574.307\n",
      "INFO:tensorflow:loss = 94634934000.0, step = 11701 (0.174 sec)\n",
      "INFO:tensorflow:global_step/sec: 561.399\n",
      "INFO:tensorflow:loss = 121555900000.0, step = 11801 (0.179 sec)\n",
      "INFO:tensorflow:global_step/sec: 584.375\n",
      "INFO:tensorflow:loss = 90442520000.0, step = 11901 (0.170 sec)\n",
      "INFO:tensorflow:global_step/sec: 574.309\n",
      "INFO:tensorflow:loss = 65779147000.0, step = 12001 (0.175 sec)\n",
      "INFO:tensorflow:global_step/sec: 564.569\n",
      "INFO:tensorflow:loss = 31994149000.0, step = 12101 (0.176 sec)\n",
      "INFO:tensorflow:global_step/sec: 571.022\n",
      "INFO:tensorflow:loss = 43823150000.0, step = 12201 (0.179 sec)\n",
      "INFO:tensorflow:global_step/sec: 571.021\n",
      "INFO:tensorflow:loss = 80538400000.0, step = 12301 (0.172 sec)\n",
      "INFO:tensorflow:global_step/sec: 577.622\n",
      "INFO:tensorflow:loss = 106973370000.0, step = 12401 (0.172 sec)\n",
      "INFO:tensorflow:global_step/sec: 567.781\n",
      "INFO:tensorflow:loss = 238466920000.0, step = 12501 (0.177 sec)\n",
      "INFO:tensorflow:global_step/sec: 584.381\n",
      "INFO:tensorflow:loss = 99604560000.0, step = 12601 (0.170 sec)\n",
      "INFO:tensorflow:global_step/sec: 528.722\n",
      "INFO:tensorflow:loss = 78176575000.0, step = 12701 (0.191 sec)\n",
      "INFO:tensorflow:global_step/sec: 574.304\n",
      "INFO:tensorflow:loss = 102194995000.0, step = 12801 (0.175 sec)\n",
      "INFO:tensorflow:global_step/sec: 534.381\n",
      "INFO:tensorflow:loss = 92373230000.0, step = 12901 (0.183 sec)\n",
      "INFO:tensorflow:global_step/sec: 543.091\n",
      "INFO:tensorflow:loss = 121787875000.0, step = 13001 (0.185 sec)\n",
      "INFO:tensorflow:global_step/sec: 534.378\n",
      "INFO:tensorflow:loss = 55367270000.0, step = 13101 (0.190 sec)\n",
      "INFO:tensorflow:global_step/sec: 567.776\n",
      "INFO:tensorflow:loss = 86184755000.0, step = 13201 (0.173 sec)\n",
      "INFO:tensorflow:global_step/sec: 523.189\n",
      "INFO:tensorflow:loss = 117027820000.0, step = 13301 (0.193 sec)\n",
      "INFO:tensorflow:global_step/sec: 571.02\n",
      "INFO:tensorflow:loss = 147036540000.0, step = 13401 (0.174 sec)\n",
      "INFO:tensorflow:global_step/sec: 534.38\n",
      "INFO:tensorflow:loss = 91671670000.0, step = 13501 (0.188 sec)\n",
      "INFO:tensorflow:global_step/sec: 531.535\n",
      "INFO:tensorflow:loss = 59153318000.0, step = 13601 (0.192 sec)\n",
      "INFO:tensorflow:global_step/sec: 515.1\n",
      "INFO:tensorflow:loss = 98501130000.0, step = 13701 (0.189 sec)\n",
      "INFO:tensorflow:global_step/sec: 504.688\n",
      "INFO:tensorflow:loss = 91352390000.0, step = 13801 (0.198 sec)\n",
      "INFO:tensorflow:global_step/sec: 531.538\n",
      "INFO:tensorflow:loss = 19340382000.0, step = 13901 (0.190 sec)\n",
      "INFO:tensorflow:global_step/sec: 525.941\n",
      "INFO:tensorflow:loss = 133801610000.0, step = 14001 (0.190 sec)\n",
      "INFO:tensorflow:global_step/sec: 531.538\n",
      "INFO:tensorflow:loss = 85509540000.0, step = 14101 (0.186 sec)\n",
      "INFO:tensorflow:global_step/sec: 525.936\n",
      "INFO:tensorflow:loss = 92122570000.0, step = 14201 (0.191 sec)\n",
      "INFO:tensorflow:global_step/sec: 540.161\n",
      "INFO:tensorflow:loss = 103295705000.0, step = 14301 (0.186 sec)\n",
      "INFO:tensorflow:global_step/sec: 546.059\n",
      "INFO:tensorflow:loss = 84171530000.0, step = 14401 (0.183 sec)\n",
      "INFO:tensorflow:global_step/sec: 555.162\n",
      "INFO:tensorflow:loss = 178031790000.0, step = 14501 (0.180 sec)\n",
      "INFO:tensorflow:global_step/sec: 567.778\n",
      "INFO:tensorflow:loss = 63632597000.0, step = 14601 (0.175 sec)\n",
      "INFO:tensorflow:global_step/sec: 482.748\n",
      "INFO:tensorflow:loss = 169470310000.0, step = 14701 (0.205 sec)\n",
      "INFO:tensorflow:global_step/sec: 512.457\n",
      "INFO:tensorflow:loss = 79198570000.0, step = 14801 (0.199 sec)\n",
      "INFO:tensorflow:global_step/sec: 515.097\n",
      "INFO:tensorflow:loss = 130671620000.0, step = 14901 (0.194 sec)\n",
      "INFO:tensorflow:global_step/sec: 555.122\n",
      "INFO:tensorflow:loss = 92558050000.0, step = 15001 (0.178 sec)\n",
      "INFO:tensorflow:global_step/sec: 567.818\n",
      "INFO:tensorflow:loss = 52640522000.0, step = 15101 (0.176 sec)\n",
      "INFO:tensorflow:global_step/sec: 525.941\n",
      "INFO:tensorflow:loss = 99770590000.0, step = 15201 (0.187 sec)\n",
      "INFO:tensorflow:global_step/sec: 580.978\n",
      "INFO:tensorflow:loss = 92107570000.0, step = 15301 (0.175 sec)\n",
      "INFO:tensorflow:global_step/sec: 574.307\n",
      "INFO:tensorflow:loss = 61134934000.0, step = 15401 (0.172 sec)\n",
      "INFO:tensorflow:global_step/sec: 564.572\n",
      "INFO:tensorflow:loss = 27805073000.0, step = 15501 (0.178 sec)\n",
      "INFO:tensorflow:global_step/sec: 564.566\n",
      "INFO:tensorflow:loss = 73015950000.0, step = 15601 (0.178 sec)\n",
      "INFO:tensorflow:global_step/sec: 564.573\n",
      "INFO:tensorflow:loss = 84148140000.0, step = 15701 (0.176 sec)\n",
      "INFO:tensorflow:global_step/sec: 564.568\n",
      "INFO:tensorflow:loss = 88245290000.0, step = 15801 (0.177 sec)\n",
      "INFO:tensorflow:global_step/sec: 567.778\n",
      "INFO:tensorflow:loss = 153544590000.0, step = 15901 (0.176 sec)\n",
      "INFO:tensorflow:global_step/sec: 564.57\n",
      "INFO:tensorflow:loss = 101297510000.0, step = 16001 (0.177 sec)\n",
      "INFO:tensorflow:global_step/sec: 525.941\n",
      "INFO:tensorflow:loss = 192694290000.0, step = 16101 (0.188 sec)\n",
      "INFO:tensorflow:global_step/sec: 580.982\n",
      "INFO:tensorflow:loss = 66779943000.0, step = 16201 (0.174 sec)\n",
      "INFO:tensorflow:global_step/sec: 574.3\n",
      "INFO:tensorflow:loss = 84617170000.0, step = 16301 (0.174 sec)\n",
      "INFO:tensorflow:global_step/sec: 567.782\n",
      "INFO:tensorflow:loss = 64064827000.0, step = 16401 (0.175 sec)\n",
      "INFO:tensorflow:global_step/sec: 580.982\n",
      "INFO:tensorflow:loss = 64776086000.0, step = 16501 (0.173 sec)\n",
      "INFO:tensorflow:global_step/sec: 528.724\n",
      "INFO:tensorflow:loss = 119332300000.0, step = 16601 (0.190 sec)\n",
      "INFO:tensorflow:global_step/sec: 580.982\n",
      "INFO:tensorflow:loss = 172336500000.0, step = 16701 (0.174 sec)\n",
      "INFO:tensorflow:global_step/sec: 577.625\n",
      "INFO:tensorflow:loss = 48468296000.0, step = 16801 (0.170 sec)\n",
      "INFO:tensorflow:global_step/sec: 549.058\n",
      "INFO:tensorflow:loss = 259723350000.0, step = 16901 (0.181 sec)\n",
      "INFO:tensorflow:global_step/sec: 555.16\n",
      "INFO:tensorflow:loss = 72115430000.0, step = 17001 (0.183 sec)\n",
      "INFO:tensorflow:global_step/sec: 546.059\n",
      "INFO:tensorflow:loss = 128432900000.0, step = 17101 (0.181 sec)\n",
      "INFO:tensorflow:global_step/sec: 564.572\n",
      "INFO:tensorflow:loss = 171085270000.0, step = 17201 (0.177 sec)\n",
      "INFO:tensorflow:global_step/sec: 591.293\n",
      "INFO:tensorflow:loss = 62120190000.0, step = 17301 (0.169 sec)\n",
      "INFO:tensorflow:global_step/sec: 580.985\n",
      "INFO:tensorflow:loss = 51058713000.0, step = 17401 (0.171 sec)\n",
      "INFO:tensorflow:global_step/sec: 594.813\n",
      "INFO:tensorflow:loss = 89027230000.0, step = 17501 (0.169 sec)\n",
      "INFO:tensorflow:global_step/sec: 537.253\n",
      "INFO:tensorflow:loss = 169312490000.0, step = 17601 (0.187 sec)\n",
      "INFO:tensorflow:global_step/sec: 584.378\n",
      "INFO:tensorflow:loss = 78496780000.0, step = 17701 (0.169 sec)\n",
      "INFO:tensorflow:global_step/sec: 584.38\n",
      "INFO:tensorflow:loss = 78509244000.0, step = 17801 (0.171 sec)\n",
      "INFO:tensorflow:global_step/sec: 591.296\n",
      "INFO:tensorflow:loss = 28165902000.0, step = 17901 (0.170 sec)\n",
      "INFO:tensorflow:global_step/sec: 587.814\n",
      "INFO:tensorflow:loss = 56913043000.0, step = 18001 (0.169 sec)\n",
      "INFO:tensorflow:global_step/sec: 558.266\n",
      "INFO:tensorflow:loss = 114183610000.0, step = 18101 (0.180 sec)\n",
      "INFO:tensorflow:global_step/sec: 564.57\n",
      "INFO:tensorflow:loss = 210857950000.0, step = 18201 (0.178 sec)\n",
      "INFO:tensorflow:global_step/sec: 587.816\n",
      "INFO:tensorflow:loss = 68838880000.0, step = 18301 (0.169 sec)\n",
      "INFO:tensorflow:global_step/sec: 574.304\n",
      "INFO:tensorflow:loss = 63572926000.0, step = 18401 (0.174 sec)\n",
      "INFO:tensorflow:global_step/sec: 561.396\n",
      "INFO:tensorflow:loss = 77509394000.0, step = 18501 (0.177 sec)\n",
      "INFO:tensorflow:global_step/sec: 591.298\n",
      "INFO:tensorflow:loss = 124203114000.0, step = 18601 (0.169 sec)\n",
      "INFO:tensorflow:global_step/sec: 561.399\n",
      "INFO:tensorflow:loss = 183370580000.0, step = 18701 (0.179 sec)\n",
      "INFO:tensorflow:global_step/sec: 591.294\n",
      "INFO:tensorflow:loss = 132352470000.0, step = 18801 (0.170 sec)\n",
      "INFO:tensorflow:global_step/sec: 540.156\n",
      "INFO:tensorflow:loss = 44049125000.0, step = 18901 (0.185 sec)\n",
      "INFO:tensorflow:global_step/sec: 577.622\n",
      "INFO:tensorflow:loss = 95872580000.0, step = 19001 (0.171 sec)\n",
      "INFO:tensorflow:global_step/sec: 587.819\n",
      "INFO:tensorflow:loss = 82024340000.0, step = 19101 (0.171 sec)\n",
      "INFO:tensorflow:global_step/sec: 587.817\n",
      "INFO:tensorflow:loss = 55593316000.0, step = 19201 (0.170 sec)\n",
      "INFO:tensorflow:global_step/sec: 598.373\n",
      "INFO:tensorflow:loss = 98932590000.0, step = 19301 (0.167 sec)\n",
      "INFO:tensorflow:global_step/sec: 587.82\n",
      "INFO:tensorflow:loss = 81465920000.0, step = 19401 (0.173 sec)\n",
      "INFO:tensorflow:global_step/sec: 546.057\n",
      "INFO:tensorflow:loss = 54220140000.0, step = 19501 (0.179 sec)\n",
      "INFO:tensorflow:global_step/sec: 517.767\n",
      "INFO:tensorflow:loss = 57738457000.0, step = 19601 (0.196 sec)\n",
      "INFO:tensorflow:global_step/sec: 558.259\n",
      "INFO:tensorflow:loss = 64609130000.0, step = 19701 (0.176 sec)\n",
      "INFO:tensorflow:global_step/sec: 555.163\n",
      "INFO:tensorflow:loss = 161393000000.0, step = 19801 (0.182 sec)\n",
      "INFO:tensorflow:global_step/sec: 512.457\n",
      "INFO:tensorflow:loss = 58053968000.0, step = 19901 (0.197 sec)\n",
      "INFO:tensorflow:global_step/sec: 502.156\n",
      "INFO:tensorflow:loss = 125825770000.0, step = 20001 (0.197 sec)\n",
      "INFO:tensorflow:global_step/sec: 552.092\n",
      "INFO:tensorflow:loss = 126833140000.0, step = 20101 (0.181 sec)\n",
      "INFO:tensorflow:global_step/sec: 580.941\n",
      "INFO:tensorflow:loss = 104756535000.0, step = 20201 (0.170 sec)\n",
      "INFO:tensorflow:global_step/sec: 471.387\n",
      "INFO:tensorflow:loss = 45706715000.0, step = 20301 (0.213 sec)\n",
      "INFO:tensorflow:global_step/sec: 366.041\n",
      "INFO:tensorflow:loss = 53814040000.0, step = 20401 (0.277 sec)\n",
      "INFO:tensorflow:global_step/sec: 450.129\n",
      "INFO:tensorflow:loss = 92222640000.0, step = 20501 (0.218 sec)\n",
      "INFO:tensorflow:global_step/sec: 555.16\n",
      "INFO:tensorflow:loss = 79808870000.0, step = 20601 (0.180 sec)\n",
      "INFO:tensorflow:global_step/sec: 577.624\n",
      "INFO:tensorflow:loss = 112610345000.0, step = 20701 (0.171 sec)\n",
      "INFO:tensorflow:global_step/sec: 598.377\n",
      "INFO:tensorflow:loss = 54624035000.0, step = 20801 (0.168 sec)\n",
      "INFO:tensorflow:global_step/sec: 574.304\n",
      "INFO:tensorflow:loss = 93594440000.0, step = 20901 (0.175 sec)\n",
      "INFO:tensorflow:global_step/sec: 605.632\n",
      "INFO:tensorflow:loss = 51676377000.0, step = 21001 (0.164 sec)\n",
      "INFO:tensorflow:global_step/sec: 577.622\n",
      "INFO:tensorflow:loss = 40548606000.0, step = 21101 (0.178 sec)\n",
      "INFO:tensorflow:global_step/sec: 444.125\n",
      "INFO:tensorflow:loss = 75323260000.0, step = 21201 (0.220 sec)\n",
      "INFO:tensorflow:global_step/sec: 492.263\n",
      "INFO:tensorflow:loss = 67014062000.0, step = 21301 (0.203 sec)\n",
      "INFO:tensorflow:global_step/sec: 580.986\n",
      "INFO:tensorflow:loss = 96182740000.0, step = 21401 (0.173 sec)\n",
      "INFO:tensorflow:global_step/sec: 567.777\n",
      "INFO:tensorflow:loss = 61422277000.0, step = 21501 (0.177 sec)\n",
      "INFO:tensorflow:global_step/sec: 558.262\n",
      "INFO:tensorflow:loss = 128011180000.0, step = 21601 (0.178 sec)\n",
      "INFO:tensorflow:global_step/sec: 584.378\n",
      "INFO:tensorflow:loss = 118983370000.0, step = 21701 (0.170 sec)\n",
      "INFO:tensorflow:global_step/sec: 587.82\n",
      "INFO:tensorflow:loss = 80600400000.0, step = 21801 (0.171 sec)\n",
      "INFO:tensorflow:global_step/sec: 571.023\n",
      "INFO:tensorflow:loss = 46043083000.0, step = 21901 (0.178 sec)\n",
      "INFO:tensorflow:global_step/sec: 567.775\n",
      "INFO:tensorflow:loss = 66434613000.0, step = 22001 (0.174 sec)\n",
      "INFO:tensorflow:global_step/sec: 346.976\n",
      "INFO:tensorflow:loss = 102680620000.0, step = 22101 (0.290 sec)\n",
      "INFO:tensorflow:global_step/sec: 358.166\n",
      "INFO:tensorflow:loss = 57844572000.0, step = 22201 (0.275 sec)\n",
      "INFO:tensorflow:global_step/sec: 442.154\n",
      "INFO:tensorflow:loss = 57700970000.0, step = 22301 (0.227 sec)\n",
      "INFO:tensorflow:global_step/sec: 464.785\n",
      "INFO:tensorflow:loss = 68219250000.0, step = 22401 (0.214 sec)\n",
      "INFO:tensorflow:global_step/sec: 571.039\n",
      "INFO:tensorflow:loss = 26347475000.0, step = 22501 (0.174 sec)\n",
      "INFO:tensorflow:global_step/sec: 485.095\n",
      "INFO:tensorflow:loss = 67986850000.0, step = 22601 (0.209 sec)\n",
      "INFO:tensorflow:global_step/sec: 567.777\n",
      "INFO:tensorflow:loss = 111706010000.0, step = 22701 (0.176 sec)\n",
      "INFO:tensorflow:global_step/sec: 605.629\n",
      "INFO:tensorflow:loss = 103151290000.0, step = 22801 (0.164 sec)\n",
      "INFO:tensorflow:global_step/sec: 609.271\n",
      "INFO:tensorflow:loss = 62613900000.0, step = 22901 (0.163 sec)\n",
      "INFO:tensorflow:global_step/sec: 571.065\n",
      "INFO:tensorflow:loss = 80488050000.0, step = 23001 (0.179 sec)\n",
      "INFO:tensorflow:global_step/sec: 546.062\n",
      "INFO:tensorflow:loss = 91937230000.0, step = 23101 (0.181 sec)\n",
      "INFO:tensorflow:global_step/sec: 587.815\n",
      "INFO:tensorflow:loss = 127030210000.0, step = 23201 (0.170 sec)\n",
      "INFO:tensorflow:global_step/sec: 616.847\n",
      "INFO:tensorflow:loss = 55613096000.0, step = 23301 (0.162 sec)\n",
      "INFO:tensorflow:global_step/sec: 613.055\n",
      "INFO:tensorflow:loss = 52585760000.0, step = 23401 (0.163 sec)\n",
      "INFO:tensorflow:global_step/sec: 616.849\n",
      "INFO:tensorflow:loss = 71097246000.0, step = 23501 (0.161 sec)\n",
      "INFO:tensorflow:global_step/sec: 616.845\n",
      "INFO:tensorflow:loss = 34405495000.0, step = 23601 (0.161 sec)\n",
      "INFO:tensorflow:global_step/sec: 613.061\n",
      "INFO:tensorflow:loss = 68346237000.0, step = 23701 (0.164 sec)\n",
      "INFO:tensorflow:global_step/sec: 609.324\n",
      "INFO:tensorflow:loss = 132732930000.0, step = 23801 (0.164 sec)\n",
      "INFO:tensorflow:global_step/sec: 616.845\n",
      "INFO:tensorflow:loss = 124817900000.0, step = 23901 (0.165 sec)\n",
      "INFO:tensorflow:global_step/sec: 620.675\n",
      "INFO:tensorflow:loss = 155437250000.0, step = 24001 (0.157 sec)\n",
      "INFO:tensorflow:global_step/sec: 574.303\n",
      "INFO:tensorflow:loss = 257289370000.0, step = 24101 (0.176 sec)\n",
      "INFO:tensorflow:global_step/sec: 564.572\n",
      "INFO:tensorflow:loss = 40386494000.0, step = 24201 (0.175 sec)\n",
      "INFO:tensorflow:global_step/sec: 613.058\n",
      "INFO:tensorflow:loss = 96990190000.0, step = 24301 (0.163 sec)\n",
      "INFO:tensorflow:global_step/sec: 616.847\n",
      "INFO:tensorflow:loss = 67633870000.0, step = 24401 (0.162 sec)\n",
      "INFO:tensorflow:global_step/sec: 601.977\n",
      "INFO:tensorflow:loss = 80341790000.0, step = 24501 (0.166 sec)\n",
      "INFO:tensorflow:global_step/sec: 552.094\n",
      "INFO:tensorflow:loss = 70961800000.0, step = 24601 (0.181 sec)\n",
      "INFO:tensorflow:global_step/sec: 616.847\n",
      "INFO:tensorflow:loss = 59870500000.0, step = 24701 (0.163 sec)\n",
      "INFO:tensorflow:global_step/sec: 616.846\n",
      "INFO:tensorflow:loss = 49910055000.0, step = 24801 (0.161 sec)\n",
      "INFO:tensorflow:global_step/sec: 609.321\n",
      "INFO:tensorflow:loss = 54665183000.0, step = 24901 (0.166 sec)\n",
      "INFO:tensorflow:Saving checkpoints for 25000 into C:\\Users\\hassan\\AppData\\Local\\Temp\\tmp2mnpc8_q\\model.ckpt.\n",
      "INFO:tensorflow:Loss for final step: 37029364000.0.\n"
     ]
    },
    {
     "data": {
      "text/plain": [
       "<tensorflow.python.estimator.canned.dnn.DNNRegressor at 0x474ce1d550>"
      ]
     },
     "execution_count": 20,
     "metadata": {},
     "output_type": "execute_result"
    }
   ],
   "source": [
    "model.train(input_fn=input_func,steps=25000)"
   ]
  },
  {
   "cell_type": "markdown",
   "metadata": {},
   "source": [
    "** Create a prediction input function and then use the .predict method off your estimator model to create a list or predictions on your test data. **"
   ]
  },
  {
   "cell_type": "code",
   "execution_count": 21,
   "metadata": {},
   "outputs": [],
   "source": [
    "predict_input_func = tf.estimator.inputs.pandas_input_fn(\n",
    "      x=X_test,\n",
    "      batch_size=10,\n",
    "      num_epochs=1,\n",
    "      shuffle=False)"
   ]
  },
  {
   "cell_type": "code",
   "execution_count": 22,
   "metadata": {
    "collapsed": true
   },
   "outputs": [],
   "source": [
    "pred_gen = model.predict(predict_input_func)"
   ]
  },
  {
   "cell_type": "code",
   "execution_count": 23,
   "metadata": {},
   "outputs": [
    {
     "name": "stdout",
     "output_type": "stream",
     "text": [
      "INFO:tensorflow:Calling model_fn.\n",
      "INFO:tensorflow:Done calling model_fn.\n",
      "INFO:tensorflow:Graph was finalized.\n",
      "INFO:tensorflow:Restoring parameters from C:\\Users\\hassan\\AppData\\Local\\Temp\\tmp2mnpc8_q\\model.ckpt-25000\n",
      "INFO:tensorflow:Running local_init_op.\n",
      "INFO:tensorflow:Done running local_init_op.\n"
     ]
    }
   ],
   "source": [
    "predictions = list(pred_gen)"
   ]
  },
  {
   "cell_type": "markdown",
   "metadata": {},
   "source": [
    "** Calculate the RMSE. Do this manually or use [sklearn.metrics](http://scikit-learn.org/stable/modules/generated/sklearn.metrics.mean_squared_error.html) **"
   ]
  },
  {
   "cell_type": "code",
   "execution_count": 24,
   "metadata": {
    "collapsed": true
   },
   "outputs": [],
   "source": [
    "final_preds = []\n",
    "for pred in predictions:\n",
    "    final_preds.append(pred['predictions'])"
   ]
  },
  {
   "cell_type": "code",
   "execution_count": 29,
   "metadata": {
    "collapsed": true
   },
   "outputs": [
    {
     "data": {
      "text/plain": [
       "6192"
      ]
     },
     "execution_count": 29,
     "metadata": {},
     "output_type": "execute_result"
    }
   ],
   "source": [
    "from sklearn.metrics import mean_squared_error\n",
    "len(final_preds)"
   ]
  },
  {
   "cell_type": "code",
   "execution_count": 26,
   "metadata": {},
   "outputs": [
    {
     "data": {
      "text/plain": [
       "98009.46842926001"
      ]
     },
     "execution_count": 26,
     "metadata": {},
     "output_type": "execute_result"
    }
   ],
   "source": [
    "mean_squared_error(y_test,final_preds)**0.5"
   ]
  },
  {
   "cell_type": "markdown",
   "metadata": {},
   "source": [
    "# Great Job!"
   ]
  }
 ],
 "metadata": {
  "kernelspec": {
   "display_name": "Python 3",
   "language": "python",
   "name": "python3"
  },
  "language_info": {
   "codemirror_mode": {
    "name": "ipython",
    "version": 3
   },
   "file_extension": ".py",
   "mimetype": "text/x-python",
   "name": "python",
   "nbconvert_exporter": "python",
   "pygments_lexer": "ipython3",
   "version": "3.6.6"
  }
 },
 "nbformat": 4,
 "nbformat_minor": 2
}
